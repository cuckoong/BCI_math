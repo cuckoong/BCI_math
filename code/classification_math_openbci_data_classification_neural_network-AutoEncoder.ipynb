{
 "cells": [
  {
   "cell_type": "markdown",
   "metadata": {},
   "source": [
    "## import package"
   ]
  },
  {
   "cell_type": "code",
   "execution_count": 1,
   "metadata": {},
   "outputs": [],
   "source": [
    "import scipy.io\n",
    "import numpy as np\n",
    "import pandas as pd\n",
    "\n",
    "\n",
    "import pandas as pd\n",
    "import numpy as np\n",
    "from sklearn.preprocessing import StandardScaler\n",
    "from sklearn.model_selection import train_test_split, GridSearchCV\n",
    "from sklearn.pipeline import Pipeline\n",
    "from sklearn import metrics\n",
    "from sklearn.linear_model import LogisticRegression, LinearRegression\n",
    "\n"
   ]
  },
  {
   "cell_type": "code",
   "execution_count": 2,
   "metadata": {},
   "outputs": [],
   "source": [
    "#visualization\n",
    "def confusion_heat_map(model, X, y):\n",
    "    y_fit = model.predict(X)\n",
    "    import seaborn as sns\n",
    "    %matplotlibe notebook \n",
    "    from matplotlib import pyplot as plt\n",
    "    from sklearn.metrics import confusion_matrix\n",
    "    mat = confusion_matrix(y, y_fit)\n",
    "    sns.heatmap(mat.T, square=True, annot=True, fmt='d', cbar=False,\n",
    "                xticklabels=np.unique(y),\n",
    "                yticklabels=np.unique(y))\n",
    "\n",
    "    plt.xlabel('true label')\n",
    "    plt.ylabel('predicted label');\n",
    "    plt.show()"
   ]
  },
  {
   "cell_type": "markdown",
   "metadata": {},
   "source": [
    "## load train and test data"
   ]
  },
  {
   "cell_type": "code",
   "execution_count": 3,
   "metadata": {},
   "outputs": [],
   "source": [
    "df_5 = pd.read_csv('D:/BCI_Classification/bci_fft_5freq_data_train.csv')\n",
    "#df_3 = pd.read_csv('D:/BCI_Classification/bci_fft_3_data.csv')\n",
    "\n",
    "\n",
    "X = df_5[['20','21','22','23','40','41','42','43']]\n",
    "y = df_5['y']\n",
    "day = df_5['day']"
   ]
  },
  {
   "cell_type": "code",
   "execution_count": null,
   "metadata": {},
   "outputs": [],
   "source": [
    "np.unique(y)"
   ]
  },
  {
   "cell_type": "code",
   "execution_count": null,
   "metadata": {},
   "outputs": [],
   "source": [
    "np.unique(day)\n"
   ]
  },
  {
   "cell_type": "markdown",
   "metadata": {},
   "source": [
    "## simple neural network + AutoEncoder"
   ]
  },
  {
   "cell_type": "code",
   "execution_count": 4,
   "metadata": {},
   "outputs": [
    {
     "name": "stderr",
     "output_type": "stream",
     "text": [
      "Using TensorFlow backend.\n"
     ]
    }
   ],
   "source": [
    "# from __future__ import absolute_import, division, print_function, unicode_literals\n",
    "import tensorflow as tf\n",
    "from tensorflow import keras\n",
    "from tensorflow.keras import layers, models\n",
    "# from tensorflow.keras.constraints import max_norm\n",
    "# import os\n",
    "# import glob\n",
    "from keras.callbacks import ModelCheckpoint\n",
    "from keras.wrappers.scikit_learn import KerasClassifier\n",
    "# from tensorflow.keras.constraints import max_norm\n",
    "\n",
    "from keras.models import Model\n",
    "from keras.callbacks import ModelCheckpoint\n",
    "from keras.layers import (Input, Dense, Concatenate)\n",
    "from keras.utils import np_utils\n",
    "  \n",
    "\n",
    "\n",
    "def autoencoder_model():\n",
    "    x = Input(name='inputs', shape=(8,), dtype='float32')\n",
    "    o = x\n",
    "    \n",
    "        # Encoder / Decoder\n",
    "    o = Dense(8, activation='relu', name='dense1')(o)\n",
    "    dec = Dense(8, activation='softmax', name='dense_dec')(o)\n",
    "    \n",
    "    # Print network summary\n",
    "    Model(inputs=x, outputs=dec).summary()\n",
    "    \n",
    "    return Model(inputs=x, outputs=dec)   \n",
    "\n",
    "    \n",
    "#     model = models.Sequential() \n",
    "#     model.add(layers.Dense(32,activation='relu',input_shape=(8,), name = 'dense1'))\n",
    "#     model.add(layers.Dense(8,activation='relu'))\n",
    "#     model.compile(optimizer =keras.optimizers.Adam(lr = 0.001),\n",
    "#                       loss = 'mse')\n",
    "    \n",
    "    return model\n",
    "    \n",
    "\n",
    "def FEATURES(model):\n",
    "    input_ = model.get_layer('inputs').input\n",
    "    feat = model.get_layer('dense1').output\n",
    "    model = Model(inputs=[input_],\n",
    "                      outputs=[feat])\n",
    "    return model\n",
    "\n",
    "    \n",
    "# Function to create model, required for KerasClassifier\n",
    "def create_model():\n",
    "    model = models.Sequential() \n",
    "    model.add(layers.Flatten(input_shape=(8,)))\n",
    "    \n",
    "    model.add(layers.Dense(64,activation='relu'))\n",
    "    model.add(layers.BatchNormalization())\n",
    "    \n",
    "    model.add(layers.Dense(64,activation='relu'))\n",
    "    model.add(layers.BatchNormalization())\n",
    "    model.add(layers.Dropout(0.2))\n",
    "    \n",
    "    model.add(layers.Dense(5, activation='softmax'))\n",
    "\n",
    "    #model compilation\n",
    "    #Compile and train the model\n",
    "    model.compile(optimizer ='adam',\n",
    "                      loss = 'sparse_categorical_crossentropy',\n",
    "                      metrics=['acc'])\n",
    "    \n",
    "    return model\n",
    "\n"
   ]
  },
  {
   "cell_type": "code",
   "execution_count": 5,
   "metadata": {},
   "outputs": [],
   "source": [
    "def split_train_test(X,y, day, test_size=0.2, random_state=42):\n",
    "    ## X,y as the pandas series,\n",
    "    y = y.values\n",
    "    X_train, X_val, y_train, y_val = train_test_split(\n",
    "        X, y, test_size=test_size, random_state=random_state, stratify = day)\n",
    "\n",
    "    X_train, X_test, y_train, y_test = train_test_split(\n",
    "        X_train, y_train, test_size=test_size, random_state=random_state)\n",
    "    \n",
    "    \n",
    "    \n",
    "    \n",
    "    \n",
    "    \n",
    "    \n",
    "    \n",
    "    \n",
    "    \n",
    "    \n",
    "    \n",
    "    return X_train, X_val,X_test, y_train, y_val, y_test"
   ]
  },
  {
   "cell_type": "code",
   "execution_count": null,
   "metadata": {},
   "outputs": [],
   "source": [
    "X_train, X_val, y_train, y_val = train_test_split(\n",
    "    X, y, test_size=0.2, random_state=42, stratify = day)\n",
    "\n",
    "X_train, X_test, y_train, y_test = train_test_split(\n",
    "    X_train, y_train, test_size=0.2, random_state=42)\n",
    "\n",
    "\n",
    "\n",
    "y_train = y_train.values\n",
    "y_test = y_test.values\n",
    "y_val = y_val.values\n",
    "\n",
    "\n",
    "noise_factor = 0.5\n",
    "X_train_noisy = X_train + noise_factor * np.random.normal(loc=0.0, scale=1.0, size=X_train.shape)\n",
    "X_val_noisy = X_val + noise_factor * np.random.normal(loc=0.0, scale=1.0, size=X_val.shape)\n",
    "# X_train_noisy = np.clip(X_train_noisy, 0., 1.)\n",
    "# X_test_noisy = np.clip(X_test_noisy, 0., 1.)\n",
    "\n",
    "autoencoder = autoencoder_model()\n",
    "autoencoder.compile(optimizer ='adam', loss = 'mse')\n",
    "history_AE = autoencoder.fit(X_train_noisy, X_train, verbose = 0, epochs=100, validation_data=(X_val_noisy, X_val))\n",
    "\n",
    "_model = FEATURES(autoencoder)\n",
    "features_train = _model.predict(X_train)\n",
    "features_val = _model.predict(X_val)\n",
    "features_test = _model.predict(X_test)\n",
    "print(features_train.shape, ' train samples shape')\n",
    "print(features_val.shape, ' val samples shape')\n",
    "\n",
    "\n",
    "# # checkpoint\n",
    "filepath=\"D://BCI_Classification//AEmodel_8day_weights.hdf5\"\n",
    "checkpoint = ModelCheckpoint(filepath, monitor='val_acc', verbose=0, save_best_only=True, mode='max')\n",
    "callbacks_list = [checkpoint]\n",
    "\n",
    "#Compile and train the model\n",
    "model = create_model()\n",
    "history = model.fit(features_train, y_train, epochs=200, validation_data=(features_val, y_val),\n",
    "                    callbacks=callbacks_list,verbose = 0)\n",
    "    \n",
    "#evaluation\n",
    "model.load_weights(filepath)\n",
    "test_loss,test_acc = model.evaluate(features_test,y_test, verbose = 2)\n",
    "\n",
    "print('Model evaluation:{}'.format(test_acc))"
   ]
  },
  {
   "cell_type": "code",
   "execution_count": null,
   "metadata": {},
   "outputs": [],
   "source": [
    "from matplotlib import pyplot as plt\n",
    "plt.plot(history.history['acc'], label='accuracy')\n",
    "plt.plot(history.history['val_acc'], label = 'val_accuracy')\n",
    "plt.xlabel('Epoch')\n",
    "plt.ylabel('Accuracy')\n",
    "plt.ylim([0, 1])\n",
    "plt.legend(loc='lower right')\n",
    "plt.show()\n",
    "\n",
    "# Plot training & validation loss values\n",
    "plt.plot(history.history['loss'], label = 'loss')\n",
    "plt.plot(history.history['val_loss'], label ='val_loss' )\n",
    "plt.title('Model loss')\n",
    "plt.ylabel('Loss')\n",
    "plt.xlabel('Epoch')\n",
    "plt.legend(['Train', 'Val'], loc='upper left')\n",
    "plt.show()\n",
    "\n",
    "\n",
    "\n",
    "y_fit = model.predict_classes(features_test)\n",
    "import seaborn as sns\n",
    "from matplotlib import pyplot as plt\n",
    "from sklearn.metrics import confusion_matrix\n",
    "mat = confusion_matrix(y_test, y_fit)\n",
    "sns.heatmap(mat.T, square=True, annot=True, fmt='d', cbar=False,\n",
    "            xticklabels=np.unique(y_test),\n",
    "            yticklabels=np.unique(y_test))\n",
    "\n",
    "plt.xlabel('true label')\n",
    "plt.ylabel('predicted label');\n",
    "plt.show()"
   ]
  },
  {
   "cell_type": "markdown",
   "metadata": {},
   "source": [
    "## cross day prediction"
   ]
  },
  {
   "cell_type": "code",
   "execution_count": 6,
   "metadata": {
    "scrolled": false
   },
   "outputs": [
    {
     "name": "stdout",
     "output_type": "stream",
     "text": [
      "[0]\n",
      "Model: \"model_1\"\n",
      "_________________________________________________________________\n",
      "Layer (type)                 Output Shape              Param #   \n",
      "=================================================================\n",
      "inputs (InputLayer)          (None, 8)                 0         \n",
      "_________________________________________________________________\n",
      "dense1 (Dense)               (None, 8)                 72        \n",
      "_________________________________________________________________\n",
      "dense_dec (Dense)            (None, 8)                 72        \n",
      "=================================================================\n",
      "Total params: 144\n",
      "Trainable params: 144\n",
      "Non-trainable params: 0\n",
      "_________________________________________________________________\n",
      "(6365, 8)  train samples shape\n",
      "(1592, 8)  val samples shape\n",
      "27/27 - 0s - loss: 3.0693 - acc: 0.4105\n",
      "Model evaluation:0.410526305437088\n"
     ]
    },
    {
     "data": {
      "text/plain": [
       "<Figure size 640x480 with 1 Axes>"
      ]
     },
     "metadata": {},
     "output_type": "display_data"
    },
    {
     "data": {
      "text/plain": [
       "<Figure size 640x480 with 1 Axes>"
      ]
     },
     "metadata": {},
     "output_type": "display_data"
    },
    {
     "name": "stdout",
     "output_type": "stream",
     "text": [
      "WARNING:tensorflow:From <ipython-input-6-fa250d62c5bb>:79: Sequential.predict_classes (from tensorflow.python.keras.engine.sequential) is deprecated and will be removed after 2021-01-01.\n",
      "Instructions for updating:\n",
      "Please use instead:* `np.argmax(model.predict(x), axis=-1)`,   if your model does multi-class classification   (e.g. if it uses a `softmax` last-layer activation).* `(model.predict(x) > 0.5).astype(\"int32\")`,   if your model does binary classification   (e.g. if it uses a `sigmoid` last-layer activation).\n"
     ]
    },
    {
     "name": "stderr",
     "output_type": "stream",
     "text": [
      "c:\\users\\owner\\miniconda3\\envs\\tfeeg\\lib\\site-packages\\statsmodels\\tools\\_testing.py:19: FutureWarning: pandas.util.testing is deprecated. Use the functions in the public API at pandas.testing instead.\n",
      "  import pandas.util.testing as tm\n"
     ]
    },
    {
     "data": {
      "text/plain": [
       "<Figure size 640x480 with 1 Axes>"
      ]
     },
     "metadata": {},
     "output_type": "display_data"
    },
    {
     "name": "stdout",
     "output_type": "stream",
     "text": [
      "[1]\n",
      "Model: \"model_4\"\n",
      "_________________________________________________________________\n",
      "Layer (type)                 Output Shape              Param #   \n",
      "=================================================================\n",
      "inputs (InputLayer)          (None, 8)                 0         \n",
      "_________________________________________________________________\n",
      "dense1 (Dense)               (None, 8)                 72        \n",
      "_________________________________________________________________\n",
      "dense_dec (Dense)            (None, 8)                 72        \n",
      "=================================================================\n",
      "Total params: 144\n",
      "Trainable params: 144\n",
      "Non-trainable params: 0\n",
      "_________________________________________________________________\n",
      "(6368, 8)  train samples shape\n",
      "(1592, 8)  val samples shape\n",
      "27/27 - 0s - loss: 6.4874 - acc: 0.3075\n",
      "Model evaluation:0.30751174688339233\n"
     ]
    },
    {
     "data": {
      "text/plain": [
       "<Figure size 640x480 with 1 Axes>"
      ]
     },
     "metadata": {},
     "output_type": "display_data"
    },
    {
     "data": {
      "text/plain": [
       "<Figure size 640x480 with 1 Axes>"
      ]
     },
     "metadata": {},
     "output_type": "display_data"
    },
    {
     "data": {
      "text/plain": [
       "<Figure size 640x480 with 1 Axes>"
      ]
     },
     "metadata": {},
     "output_type": "display_data"
    },
    {
     "name": "stdout",
     "output_type": "stream",
     "text": [
      "[2]\n",
      "Model: \"model_7\"\n",
      "_________________________________________________________________\n",
      "Layer (type)                 Output Shape              Param #   \n",
      "=================================================================\n",
      "inputs (InputLayer)          (None, 8)                 0         \n",
      "_________________________________________________________________\n",
      "dense1 (Dense)               (None, 8)                 72        \n",
      "_________________________________________________________________\n",
      "dense_dec (Dense)            (None, 8)                 72        \n",
      "=================================================================\n",
      "Total params: 144\n",
      "Trainable params: 144\n",
      "Non-trainable params: 0\n",
      "_________________________________________________________________\n",
      "(6356, 8)  train samples shape\n",
      "(1589, 8)  val samples shape\n",
      "28/28 - 0s - loss: 4.7243 - acc: 0.6655\n",
      "Model evaluation:0.665513277053833\n"
     ]
    },
    {
     "data": {
      "text/plain": [
       "<Figure size 640x480 with 1 Axes>"
      ]
     },
     "metadata": {},
     "output_type": "display_data"
    },
    {
     "data": {
      "text/plain": [
       "<Figure size 640x480 with 1 Axes>"
      ]
     },
     "metadata": {},
     "output_type": "display_data"
    },
    {
     "data": {
      "text/plain": [
       "<Figure size 640x480 with 1 Axes>"
      ]
     },
     "metadata": {},
     "output_type": "display_data"
    },
    {
     "name": "stdout",
     "output_type": "stream",
     "text": [
      "[3]\n",
      "Model: \"model_10\"\n",
      "_________________________________________________________________\n",
      "Layer (type)                 Output Shape              Param #   \n",
      "=================================================================\n",
      "inputs (InputLayer)          (None, 8)                 0         \n",
      "_________________________________________________________________\n",
      "dense1 (Dense)               (None, 8)                 72        \n",
      "_________________________________________________________________\n",
      "dense_dec (Dense)            (None, 8)                 72        \n",
      "=================================================================\n",
      "Total params: 144\n",
      "Trainable params: 144\n",
      "Non-trainable params: 0\n",
      "_________________________________________________________________\n",
      "(6363, 8)  train samples shape\n",
      "(1591, 8)  val samples shape\n",
      "27/27 - 0s - loss: 5.5993 - acc: 0.2949\n",
      "Model evaluation:0.29487180709838867\n"
     ]
    },
    {
     "data": {
      "text/plain": [
       "<Figure size 640x480 with 1 Axes>"
      ]
     },
     "metadata": {},
     "output_type": "display_data"
    },
    {
     "data": {
      "text/plain": [
       "<Figure size 640x480 with 1 Axes>"
      ]
     },
     "metadata": {},
     "output_type": "display_data"
    },
    {
     "data": {
      "text/plain": [
       "<Figure size 640x480 with 1 Axes>"
      ]
     },
     "metadata": {},
     "output_type": "display_data"
    },
    {
     "name": "stdout",
     "output_type": "stream",
     "text": [
      "[4]\n",
      "Model: \"model_13\"\n",
      "_________________________________________________________________\n",
      "Layer (type)                 Output Shape              Param #   \n",
      "=================================================================\n",
      "inputs (InputLayer)          (None, 8)                 0         \n",
      "_________________________________________________________________\n",
      "dense1 (Dense)               (None, 8)                 72        \n",
      "_________________________________________________________________\n",
      "dense_dec (Dense)            (None, 8)                 72        \n",
      "=================================================================\n",
      "Total params: 144\n",
      "Trainable params: 144\n",
      "Non-trainable params: 0\n",
      "_________________________________________________________________\n",
      "(6363, 8)  train samples shape\n",
      "(1591, 8)  val samples shape\n",
      "27/27 - 0s - loss: 4.7500 - acc: 0.3124\n",
      "Model evaluation:0.31235432624816895\n"
     ]
    },
    {
     "data": {
      "text/plain": [
       "<Figure size 640x480 with 1 Axes>"
      ]
     },
     "metadata": {},
     "output_type": "display_data"
    },
    {
     "data": {
      "text/plain": [
       "<Figure size 640x480 with 1 Axes>"
      ]
     },
     "metadata": {},
     "output_type": "display_data"
    },
    {
     "data": {
      "text/plain": [
       "<Figure size 640x480 with 1 Axes>"
      ]
     },
     "metadata": {},
     "output_type": "display_data"
    },
    {
     "name": "stdout",
     "output_type": "stream",
     "text": [
      "[5]\n",
      "Model: \"model_16\"\n",
      "_________________________________________________________________\n",
      "Layer (type)                 Output Shape              Param #   \n",
      "=================================================================\n",
      "inputs (InputLayer)          (None, 8)                 0         \n",
      "_________________________________________________________________\n",
      "dense1 (Dense)               (None, 8)                 72        \n",
      "_________________________________________________________________\n",
      "dense_dec (Dense)            (None, 8)                 72        \n",
      "=================================================================\n",
      "Total params: 144\n",
      "Trainable params: 144\n",
      "Non-trainable params: 0\n",
      "_________________________________________________________________\n",
      "(5693, 8)  train samples shape\n",
      "(1424, 8)  val samples shape\n",
      "53/53 - 0s - loss: 3.3212 - acc: 0.4814\n",
      "Model evaluation:0.48141592741012573\n"
     ]
    },
    {
     "data": {
      "text/plain": [
       "<Figure size 640x480 with 1 Axes>"
      ]
     },
     "metadata": {},
     "output_type": "display_data"
    },
    {
     "data": {
      "text/plain": [
       "<Figure size 640x480 with 1 Axes>"
      ]
     },
     "metadata": {},
     "output_type": "display_data"
    },
    {
     "data": {
      "text/plain": [
       "<Figure size 640x480 with 1 Axes>"
      ]
     },
     "metadata": {},
     "output_type": "display_data"
    },
    {
     "name": "stdout",
     "output_type": "stream",
     "text": [
      "[6]\n",
      "Model: \"model_19\"\n",
      "_________________________________________________________________\n",
      "Layer (type)                 Output Shape              Param #   \n",
      "=================================================================\n",
      "inputs (InputLayer)          (None, 8)                 0         \n",
      "_________________________________________________________________\n",
      "dense1 (Dense)               (None, 8)                 72        \n",
      "_________________________________________________________________\n",
      "dense_dec (Dense)            (None, 8)                 72        \n",
      "=================================================================\n",
      "Total params: 144\n",
      "Trainable params: 144\n",
      "Non-trainable params: 0\n",
      "_________________________________________________________________\n",
      "(5804, 8)  train samples shape\n",
      "(1452, 8)  val samples shape\n",
      "49/49 - 0s - loss: 6.3147 - acc: 0.4139\n",
      "Model evaluation:0.41388174891471863\n"
     ]
    },
    {
     "data": {
      "text/plain": [
       "<Figure size 640x480 with 1 Axes>"
      ]
     },
     "metadata": {},
     "output_type": "display_data"
    },
    {
     "data": {
      "text/plain": [
       "<Figure size 640x480 with 1 Axes>"
      ]
     },
     "metadata": {},
     "output_type": "display_data"
    },
    {
     "data": {
      "text/plain": [
       "<Figure size 640x480 with 1 Axes>"
      ]
     },
     "metadata": {},
     "output_type": "display_data"
    },
    {
     "name": "stdout",
     "output_type": "stream",
     "text": [
      "[7]\n",
      "Model: \"model_22\"\n",
      "_________________________________________________________________\n",
      "Layer (type)                 Output Shape              Param #   \n",
      "=================================================================\n",
      "inputs (InputLayer)          (None, 8)                 0         \n",
      "_________________________________________________________________\n",
      "dense1 (Dense)               (None, 8)                 72        \n",
      "_________________________________________________________________\n",
      "dense_dec (Dense)            (None, 8)                 72        \n",
      "=================================================================\n",
      "Total params: 144\n",
      "Trainable params: 144\n",
      "Non-trainable params: 0\n",
      "_________________________________________________________________\n",
      "(6032, 8)  train samples shape\n",
      "(1509, 8)  val samples shape\n",
      "40/40 - 0s - loss: 6.0731 - acc: 0.3643\n",
      "Model evaluation:0.364280104637146\n"
     ]
    },
    {
     "data": {
      "text/plain": [
       "<Figure size 640x480 with 1 Axes>"
      ]
     },
     "metadata": {},
     "output_type": "display_data"
    },
    {
     "data": {
      "text/plain": [
       "<Figure size 640x480 with 1 Axes>"
      ]
     },
     "metadata": {},
     "output_type": "display_data"
    },
    {
     "data": {
      "text/plain": [
       "<Figure size 640x480 with 1 Axes>"
      ]
     },
     "metadata": {},
     "output_type": "display_data"
    }
   ],
   "source": [
    "from sklearn.model_selection import KFold\n",
    "for train_day, predict_day in  KFold(8).split([0,1,2,3,4,5,6,7]):\n",
    "    day_value = day.values\n",
    "    day_predict_idx = np.unique(day_value)[predict_day]\n",
    "    print(day_predict_idx)\n",
    "    train_list = (day_value != day_predict_idx)\n",
    "\n",
    "    #training set\n",
    "    X_train = X.iloc[train_list==True , :]\n",
    "    y_train = y[train_list==True]\n",
    "\n",
    "    X_train, X_val, y_train, y_val = train_test_split(\n",
    "        X_train, y_train, test_size=0.2, random_state=42, stratify = y_train)\n",
    "\n",
    "    #test set\n",
    "    X_test= X.iloc[train_list == False, :]\n",
    "    y_test= y[train_list==False]\n",
    "\n",
    "\n",
    "    y_train = y_train.values\n",
    "    y_test = y_test.values\n",
    "    y_val = y_val.values\n",
    "\n",
    "\n",
    "    noise_factor = 0.5\n",
    "    X_train_noisy = X_train + noise_factor * np.random.normal(loc=0.0, scale=1.0, size=X_train.shape)\n",
    "    X_val_noisy = X_val + noise_factor * np.random.normal(loc=0.0, scale=1.0, size=X_val.shape)\n",
    "    # X_train_noisy = np.clip(X_train_noisy, 0., 1.)\n",
    "    # X_test_noisy = np.clip(X_test_noisy, 0., 1.)\n",
    "\n",
    "    autoencoder = autoencoder_model()\n",
    "    autoencoder.compile(optimizer ='adam', loss = 'mse')\n",
    "    history_AE = autoencoder.fit(X_train_noisy, X_train, verbose = 0, epochs=100, validation_data=(X_val_noisy, X_val))\n",
    "\n",
    "    _model = FEATURES(autoencoder)\n",
    "    features_train = _model.predict(X_train)\n",
    "    features_val = _model.predict(X_val)\n",
    "    features_test = _model.predict(X_test)\n",
    "    print(features_train.shape, ' train samples shape')\n",
    "    print(features_val.shape, ' val samples shape')\n",
    "\n",
    "\n",
    "    # # checkpoint\n",
    "    filepath=\"D://BCI_Classification//AEmodel_crossday_weights.hdf5\"\n",
    "    checkpoint = ModelCheckpoint(filepath, monitor='val_acc', verbose=0, save_best_only=True, mode='max')\n",
    "    callbacks_list = [checkpoint]\n",
    "\n",
    "    #Compile and train the model\n",
    "    model = create_model()\n",
    "    history = model.fit(features_train, y_train, epochs=200, validation_data=(features_val, y_val),\n",
    "                        callbacks=callbacks_list,verbose = 0)\n",
    "\n",
    "    #evaluation\n",
    "    model.load_weights(filepath)\n",
    "    test_loss,test_acc = model.evaluate(features_test,y_test, verbose = 2)\n",
    "\n",
    "    print('Model evaluation:{}'.format(test_acc))\n",
    "    \n",
    "    from matplotlib import pyplot as plt\n",
    "    plt.plot(history.history['acc'], label='accuracy')\n",
    "    plt.plot(history.history['val_acc'], label = 'val_accuracy')\n",
    "    plt.xlabel('Epoch')\n",
    "    plt.ylabel('Accuracy')\n",
    "    plt.ylim([0, 1])\n",
    "    plt.legend(loc='lower right')\n",
    "    plt.show()\n",
    "\n",
    "    # Plot training & validation loss values\n",
    "    plt.plot(history.history['loss'], label = 'loss')\n",
    "    plt.plot(history.history['val_loss'], label ='val_loss' )\n",
    "    plt.title('Model loss')\n",
    "    plt.ylabel('Loss')\n",
    "    plt.xlabel('Epoch')\n",
    "    plt.legend(['Train', 'Val'], loc='upper left')\n",
    "    plt.show()\n",
    "\n",
    "\n",
    "\n",
    "    y_fit = model.predict_classes(features_test)\n",
    "    import seaborn as sns\n",
    "    from matplotlib import pyplot as plt\n",
    "    from sklearn.metrics import confusion_matrix\n",
    "    mat = confusion_matrix(y_test, y_fit)\n",
    "    sns.heatmap(mat.T, square=True, annot=True, fmt='d', cbar=False,\n",
    "                xticklabels=np.unique(y_test),\n",
    "                yticklabels=np.unique(y_test))\n",
    "\n",
    "    plt.xlabel('true label')\n",
    "    plt.ylabel('predicted label');\n",
    "    plt.show()"
   ]
  },
  {
   "cell_type": "code",
   "execution_count": null,
   "metadata": {},
   "outputs": [],
   "source": [
    "from matplotlib import pyplot as plt\n",
    "plt.plot(history.history['acc'], label='accuracy')\n",
    "plt.plot(history.history['val_acc'], label = 'val_accuracy')\n",
    "plt.xlabel('Epoch')\n",
    "plt.ylabel('Accuracy')\n",
    "plt.ylim([0, 1])\n",
    "plt.legend(loc='lower right')\n",
    "plt.show()\n",
    "\n",
    "# Plot training & validation loss values\n",
    "plt.plot(history.history['loss'], label = 'loss')\n",
    "plt.plot(history.history['val_loss'], label ='val_loss' )\n",
    "plt.title('Model loss')\n",
    "plt.ylabel('Loss')\n",
    "plt.xlabel('Epoch')\n",
    "plt.legend(['Train', 'Val'], loc='upper left')\n",
    "plt.show()\n",
    "\n",
    "\n",
    "\n",
    "y_fit = model.predict_classes(features_test)\n",
    "import seaborn as sns\n",
    "from matplotlib import pyplot as plt\n",
    "from sklearn.metrics import confusion_matrix\n",
    "mat = confusion_matrix(y_test, y_fit)\n",
    "sns.heatmap(mat.T, square=True, annot=True, fmt='d', cbar=False,\n",
    "            xticklabels=np.unique(y_test),\n",
    "            yticklabels=np.unique(y_test))\n",
    "\n",
    "plt.xlabel('true label')\n",
    "plt.ylabel('predicted label');\n",
    "plt.show()"
   ]
  },
  {
   "cell_type": "markdown",
   "metadata": {},
   "source": [
    "## same day prediction"
   ]
  },
  {
   "cell_type": "code",
   "execution_count": null,
   "metadata": {},
   "outputs": [],
   "source": [
    "X_train = pd.read_csv('D:/BCI_Classification/bci_fft_5freq_sameday_data_train.csv')\n",
    "X_test = pd.read_csv('D:/BCI_Classification/bci_fft_5freq_sameday_data_test.csv')\n",
    "\n",
    "\n",
    "y_train = X_train['y']\n",
    "y_test = X_test['y']\n",
    "\n",
    "#alpha only\n",
    "X_train = X_train[['20','21','22','23','40','41','42','43']]\n",
    "X_test = X_test[['20','21','22','23','40','41','42','43']]\n",
    "\n",
    "\n",
    "\n",
    "from sklearn.preprocessing import MinMaxScaler\n",
    "scaler = MinMaxScaler()\n",
    "\n",
    "\n",
    "X_train = scaler.fit_transform(X_train)\n",
    "X_test = scaler.transform(X_test)\n",
    "\n",
    "X_train, X_val, y_train, y_val = train_test_split(\n",
    "    X_train, y_train, test_size=0.4, random_state=2, stratify = y_train)\n",
    "\n",
    "\n",
    "\n",
    "# X_train = X_train.values\n",
    "# X_test = X_test.values\n",
    "# X_val = X_val.values\n",
    "\n",
    "\n",
    "y_train = y_train.values\n",
    "y_test = y_test.values\n",
    "y_val = y_val.values\n",
    "\n",
    "\n",
    "noise_factor = 0.5\n",
    "X_train_noisy = X_train + noise_factor * np.random.normal(loc=0.0, scale=1.0, size=X_train.shape)\n",
    "X_val_noisy = X_val + noise_factor * np.random.normal(loc=0.0, scale=1.0, size=X_val.shape)\n",
    "X_train_noisy = np.clip(X_train_noisy, 0., 1.)\n",
    "X_test_noisy = np.clip(X_test_noisy, 0., 1.)\n",
    "\n",
    "autoencoder = autoencoder_model()\n",
    "autoencoder.compile(optimizer ='adam', loss = 'mse')\n",
    "history_AE = autoencoder.fit(X_train_noisy, X_train, verbose = 0, epochs=100, validation_data=(X_val_noisy, X_val))\n",
    "\n",
    "_model = FEATURES(autoencoder)\n",
    "features_train = _model.predict(X_train)\n",
    "features_val = _model.predict(X_val)\n",
    "features_test = _model.predict(X_test)\n",
    "print(features_train.shape, ' train samples shape')\n",
    "print(features_val.shape, ' val samples shape')\n",
    "\n",
    "\n",
    "# # checkpoint\n",
    "filepath=\"D://BCI_Classification//AEmodel_sameday_weights.hdf5\"\n",
    "checkpoint = ModelCheckpoint(filepath, monitor='val_acc', verbose=0, save_best_only=True, mode='max')\n",
    "callbacks_list = [checkpoint]\n",
    "\n",
    "#Compile and train the model\n",
    "model = create_model()\n",
    "history = model.fit(features_train, y_train, epochs=200, validation_data=(features_val, y_val),\n",
    "                    callbacks=callbacks_list,verbose = 0)\n",
    "    \n",
    "#evaluation\n",
    "model.load_weights(filepath)\n",
    "test_loss,test_acc = model.evaluate(features_test,y_test, verbose = 2)\n",
    "\n",
    "print('Model evaluation:{}'.format(test_acc))\n",
    "\n"
   ]
  },
  {
   "cell_type": "code",
   "execution_count": null,
   "metadata": {},
   "outputs": [],
   "source": [
    "X_train = pd.read_csv('D:/BCI_Classification/bci_fft_5freq_step250_sameday_data_train.csv')\n",
    "X_test = pd.read_csv('D:/BCI_Classification/bci_fft_5freq_step250_sameday_data_test.csv')\n",
    "\n",
    "\n",
    "y_train = X_train['y']\n",
    "y_test = X_test['y']\n",
    "\n",
    "#alpha only\n",
    "X_train = X_train[['20','21','22','23','40','41','42','43']]\n",
    "X_test = X_test[['20','21','22','23','40','41','42','43']]\n",
    "\n",
    "\n",
    "X_train, X_val, y_train, y_val = train_test_split(\n",
    "    X_train, y_train, test_size=0.2, random_state=2, stratify = y_train)\n",
    "\n",
    "# X_train, X_test, y_train, y_test = train_test_split(\n",
    "#     X_train, y_train, test_size=0.2, random_state=2,stratify = y_train )\n",
    "\n",
    "\n",
    "X_train = np.expand_dims(X_train,axis=1)\n",
    "X_test = np.expand_dims(X_test,axis=1)\n",
    "X_val = np.expand_dims(X_val,axis=1)\n",
    "\n",
    "y_train = y_train.values\n",
    "y_test = y_test.values\n",
    "y_val = y_val.values\n",
    "\n",
    "# # checkpoint\n",
    "filepath=\"D://BCI_Classification//model_sameday_weights.hdf5\"\n",
    "checkpoint = ModelCheckpoint(filepath, monitor='val_acc', verbose=0, save_best_only=True, mode='max')\n",
    "callbacks_list = [checkpoint]\n",
    "\n",
    "#Compile and train the model\n",
    "model = create_model()\n",
    "history = model.fit(X_train, y_train,epochs=200, validation_data=(X_val, y_val), \n",
    "                    callbacks=callbacks_list,verbose = 0)\n",
    "    \n",
    "#evaluation\n",
    "model.load_weights(filepath)\n",
    "test_loss,test_acc = model.evaluate(X_test,y_test, verbose = 2)\n",
    "\n",
    "print('Model evaluation:{}'.format(test_acc))\n",
    "\n"
   ]
  },
  {
   "cell_type": "code",
   "execution_count": null,
   "metadata": {
    "scrolled": false
   },
   "outputs": [],
   "source": [
    "X_train, X_val, y_train, y_val = train_test_split(\n",
    "    X, y, test_size=0.2, random_state=2, stratify = y)\n",
    "\n",
    "X_train, X_test, y_train, y_test = train_test_split(\n",
    "    X_train, y_train, test_size=0.2, random_state=2,stratify = y_train )\n",
    "\n",
    "\n",
    "X_train = np.expand_dims(X_train,axis=1)\n",
    "X_test = np.expand_dims(X_test,axis=1)\n",
    "X_val = np.expand_dims(X_val,axis=1)\n",
    "\n",
    "y_train = y_train.values - 2\n",
    "y_test = y_test.values - 2\n",
    "y_val = y_val.values - 2 \n",
    "\n",
    "# checkpoint\n",
    "filepath=\"D://BCI_Classification//model_weights.hdf5\"\n",
    "checkpoint = ModelCheckpoint(filepath, monitor='val_acc', verbose=0, save_best_only=True, mode='max')\n",
    "callbacks_list = [checkpoint]\n",
    "\n",
    "#Compile and train the model\n",
    "model = create_model()\n",
    "history = model.fit(X_train, y_train,epochs=200, validation_data=(X_val, y_val), callbacks=callbacks_list,verbose = 1)\n",
    "    \n",
    "#evaluation\n",
    "model.load_weights(filepath)\n",
    "test_loss,test_acc = model.evaluate(X_test,y_test, verbose = 2)\n",
    "\n",
    "print('Model evaluation:{}'.format(test_acc))\n",
    "\n"
   ]
  },
  {
   "cell_type": "code",
   "execution_count": null,
   "metadata": {},
   "outputs": [],
   "source": [
    "from matplotlib import pyplot as plt\n",
    "plt.plot(history.history['acc'], label='accuracy')\n",
    "plt.plot(history.history['val_acc'], label = 'val_accuracy')\n",
    "plt.xlabel('Epoch')\n",
    "plt.ylabel('Accuracy')\n",
    "plt.ylim([0, 1])\n",
    "plt.legend(loc='lower right')\n",
    "plt.show()\n",
    "\n",
    "# Plot training & validation loss values\n",
    "plt.plot(history.history['loss'], label = 'loss')\n",
    "plt.plot(history.history['val_loss'], label ='val_loss' )\n",
    "plt.title('Model loss')\n",
    "plt.ylabel('Loss')\n",
    "plt.xlabel('Epoch')\n",
    "plt.legend(['Train', 'Val'], loc='upper left')\n",
    "plt.show()\n",
    "\n",
    "\n",
    "\n",
    "y_fit = model.predict_classes(X_test)\n",
    "import seaborn as sns\n",
    "from matplotlib import pyplot as plt\n",
    "from sklearn.metrics import confusion_matrix\n",
    "mat = confusion_matrix(y_test, y_fit)\n",
    "sns.heatmap(mat.T, square=True, annot=True, fmt='d', cbar=False,\n",
    "            xticklabels=np.unique(y_test),\n",
    "            yticklabels=np.unique(y_test))\n",
    "\n",
    "plt.xlabel('true label')\n",
    "plt.ylabel('predicted label');\n",
    "plt.show()"
   ]
  },
  {
   "cell_type": "markdown",
   "metadata": {},
   "source": [
    "### individual day calibration"
   ]
  },
  {
   "cell_type": "code",
   "execution_count": null,
   "metadata": {},
   "outputs": [],
   "source": [
    "for train_day, predict_day in  KFold(5).split([0,1,2,3,4]):\n",
    "    print(predict_day)"
   ]
  },
  {
   "cell_type": "code",
   "execution_count": null,
   "metadata": {
    "scrolled": false
   },
   "outputs": [],
   "source": [
    "# from sklearn.model_selection import KFold\n",
    "\n",
    "# day_value = day.values\n",
    "\n",
    "# for train_day, predict_day in  KFold(5).split([0,1,2,3,4]):\n",
    "predict_day = [1]\n",
    "    \n",
    "day_predict_idx = np.unique(day_value)[predict_day]\n",
    "print(day_predict_idx)\n",
    "train_list = (day_value != day_predict_idx)\n",
    "\n",
    "#training set\n",
    "X_train = X.iloc[train_list==True , :]\n",
    "y_train = y[train_list==True]\n",
    "\n",
    "X_train, X_val, y_train, y_val = train_test_split(\n",
    "    X_train, y_train, test_size=0.2, random_state=2, stratify = y_train)\n",
    "\n",
    "#test set\n",
    "X_test= X.iloc[train_list == False, :]\n",
    "y_test= y[train_list==False]\n",
    "\n",
    "X_train = np.expand_dims(X_train,axis=1)\n",
    "X_test = np.expand_dims(X_test,axis=1)\n",
    "X_val = np.expand_dims(X_val,axis=1)\n",
    "\n",
    "y_train = y_train.values - 2\n",
    "y_test = y_test.values - 2\n",
    "y_val = y_val.values - 2 \n",
    "\n",
    "# checkpoint\n",
    "filepath=\"D://BCI_Classification//day_\"+str(day_predict_idx[0])+\"_model_weights.hdf5\"\n",
    "checkpoint = ModelCheckpoint(filepath, monitor='val_acc', verbose=1, save_best_only=True, mode='max')\n",
    "callbacks_list = [checkpoint]\n",
    "\n",
    "#Compile and train the model\n",
    "model = create_model()\n",
    "history = model.fit(X_train, y_train,epochs=100, validation_data=(X_val, y_val), callbacks=callbacks_list)\n",
    "\n",
    "#evaluation\n",
    "model.load_weights(filepath)\n",
    "test_loss,test_acc = model.evaluate(X_test,y_test, verbose = 2)\n",
    "\n",
    "print('Model evaluation:{}'.format(test_acc))\n",
    "\n",
    "\n",
    "\n",
    "X_retrain, X_reval, y_retrain, y_reval = train_test_split(\n",
    "    X_test, y_test, test_size=0.2, random_state=2, stratify = y_test)\n",
    "\n",
    "X_retrain, X_retest, y_retrain, y_retest = train_test_split(\n",
    "    X_retrain, y_retrain, test_size=0.8, random_state=2, stratify = y_retrain)\n",
    "\n",
    "\n",
    "\n",
    "# retrain checkpoint\n",
    "refilepath=\"D://BCI_Classification//day_\"+str(day_predict_idx[0])+\"_remodel_weights.hdf5\"\n",
    "checkpoint = ModelCheckpoint(refilepath, monitor='val_acc', verbose=1, save_best_only=True, mode='max')\n",
    "callbacks_list = [checkpoint]\n",
    "\n",
    "#Compile and train the model\n",
    "remodel = create_model()\n",
    "remodel.load_weights(filepath)\n",
    "history = remodel.fit(X_retrain, y_retrain, epochs=100, validation_data=(X_val, y_val), callbacks=callbacks_list)\n",
    "\n",
    "#evaluation\n",
    "remodel.load_weights(refilepath)\n",
    "retest_loss,retest_acc = model.evaluate(X_retest,y_retest, verbose = 2)\n",
    "print('Model evaluation:{}'.format(retest_acc))\n",
    "\n",
    "\n",
    "\n"
   ]
  },
  {
   "cell_type": "code",
   "execution_count": null,
   "metadata": {},
   "outputs": [],
   "source": [
    "for i in range(1,6):\n",
    "    filepath=\"D://BCI_Classification//day_\"+str(i)+\"_model_weights.hdf5\"\n",
    "    #evaluation\n",
    "    model.load_weights(filepath)\n",
    "    \n",
    "    X_train = X[day!=i]\n",
    "    y_train = y[day!=i]\n",
    "    X_train = np.expand_dims(X_train,axis=1)\n",
    "    y_train = y_train.values - 2\n",
    "    \n",
    "    \n",
    "\n",
    "    X_test = X[day==i]\n",
    "    y_test = y[day==i]\n",
    "    X_test = np.expand_dims(X_test,axis=1)\n",
    "    y_test = y_test.values - 2\n",
    "    \n",
    "    \n",
    "    train_loss,train_acc = model.evaluate(X_train,y_train, verbose = 0)\n",
    "    test_loss,test_acc = model.evaluate(X_test,y_test, verbose = 0)\n",
    "    print('Predict day:{}'.format(i))\n",
    "    print('training set:{}'.format(train_acc))\n",
    "    print('test set:{}'.format(test_acc))\n",
    "    print()"
   ]
  },
  {
   "cell_type": "code",
   "execution_count": null,
   "metadata": {},
   "outputs": [],
   "source": [
    "from sklearn.model_selection import KFold\n",
    "\n",
    "day_value = day.values\n",
    "\n",
    "for train_day, predict_day in  KFold(5).split([0,1,2,3,4]):\n",
    "    \n",
    "    day_predict_idx = np.unique(day_value)[predict_day]\n",
    "    print(day_predict_idx)\n",
    "    train_list = (day_value != day_predict_idx)\n",
    "    \n",
    "    #training set\n",
    "    X_train = X.iloc[train_list==True , :]\n",
    "    y_train = y[train_list==True]\n",
    "       \n",
    "    X_train, X_val, y_train, y_val = train_test_split(\n",
    "        X, y, test_size=0.2, random_state=2, stratify = y)\n",
    "    \n",
    "    #test set\n",
    "    X_test= X.iloc[train_list == False, :]\n",
    "    y_test= y[train_list==False]\n",
    "\n",
    "    X_train = np.expand_dims(X_train,axis=1)\n",
    "    X_test = np.expand_dims(X_test,axis=1)\n",
    "    X_val = np.expand_dims(X_val,axis=1)\n",
    "\n",
    "    y_train = y_train.values - 2\n",
    "    y_test = y_test.values - 2\n",
    "    y_val = y_val.values - 2 \n",
    "\n",
    "    # checkpoint\n",
    "    filepath=\"D://BCI_Classification//day_\"+str(day_predict_idx[0])+\"_model_weights.hdf5\"\n",
    "    checkpoint = ModelCheckpoint(filepath, monitor='val_acc', verbose=1, save_best_only=True, mode='max')\n",
    "    callbacks_list = [checkpoint]\n",
    "\n",
    "    #Compile and train the model\n",
    "    model = create_model()\n",
    "    history = model.fit(X_train, y_train,epochs=100, validation_data=(X_val, y_val), callbacks=callbacks_list)\n",
    "\n",
    "    #evaluation\n",
    "    model.load_weights(filepath)\n",
    "    test_loss,test_acc = model.evaluate(X_test,y_test)\n",
    "\n",
    "    print('Model evaluation:{}'.format(test_acc))\n",
    "\n"
   ]
  }
 ],
 "metadata": {
  "kernelspec": {
   "display_name": "Python 3",
   "language": "python",
   "name": "python3"
  },
  "language_info": {
   "codemirror_mode": {
    "name": "ipython",
    "version": 3
   },
   "file_extension": ".py",
   "mimetype": "text/x-python",
   "name": "python",
   "nbconvert_exporter": "python",
   "pygments_lexer": "ipython3",
   "version": "3.6.9"
  }
 },
 "nbformat": 4,
 "nbformat_minor": 2
}
